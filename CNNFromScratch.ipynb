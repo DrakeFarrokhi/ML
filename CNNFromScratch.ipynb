{
  "nbformat": 4,
  "nbformat_minor": 0,
  "metadata": {
    "colab": {
      "provenance": []
    },
    "kernelspec": {
      "name": "python3",
      "display_name": "Python 3"
    },
    "language_info": {
      "name": "python"
    }
  },
  "cells": [
    {
      "cell_type": "code",
      "source": [
        "def listReshape(lst, dim):\n",
        "  '''\n",
        "  listReshape takes in a 1d list and an integer value for the dimension\n",
        "\n",
        "  returns: a 2d list with shape dim ** 2\n",
        "  '''\n",
        "  if len(lst) != dim ** 2:\n",
        "    print(\"DIMENSIONALITY ERROR\")\n",
        "    raise ValueError\n",
        "  return [[lst[j * i + j] for j in range(dim)] for i in range(dim)]\n",
        "\n",
        "\n",
        "def convoluteSubArray(matrix, kernel, reach, ind):\n",
        "  '''\n",
        "  convoluteSubArray takes in the matrix to be convoluted, the kernel doing the convolution, the reach of the kernel size to any side from the ind location (int, int)\n",
        "\n",
        "  returns: a single value that corresponds to the convolution of the kernel and the submatrix of the original matrix\n",
        "  '''\n",
        "  row, col = ind[0], ind[1]\n",
        "  subMatrix = matrix[row - reach: row + reach + 1, col - reach: col + reach + 1]\n",
        "  rang = len(subMatrix[0])\n",
        "  convoluteValue = 0\n",
        "  for col in range(rang):\n",
        "    for row in range(rang):\n",
        "      convoluteValue += (subMatrix[col][row] * kernel[col][row])\n",
        "  return convoluteValue\n",
        "\n",
        "def convolutionHelper(matrix, kernel_size, kernel, input_dim):\n",
        "  '''\n",
        "  convolutionHelper takes in the matrix to be convoluted, the kernel size, the kernel, and the dimensionality of the matrix to be convoluted\n",
        "\n",
        "  returns: convoluted matrix with dimensionality (input_dim - kernel_size) ** 2\n",
        "  '''\n",
        "  returnMatrixDim = (input_dim - kernel_size)\n",
        "  returnMatrix = []\n",
        "\n",
        "  startInd = (kernel_size - 1) // 2\n",
        "\n",
        "  for col in range(startInd, input_dim - startInd):\n",
        "    for row in range(startInd, input_dim - startInd):\n",
        "      returnMatrix.append(max(0, convoluteSubArray(matrix, kernel, startInd, (row, col)))) # this part of the code applies ReLu activation function by taking max of 0 and convolution\n",
        "  # Reshaping the matrix\n",
        "  returnMatrix = listReshape(returnMatrix, (input_dim - kernel_size + 1))\n",
        "  return returnMatrix\n",
        "\n",
        "def Convolution2D(matrix, kernel_size, kernels, input_dim):\n",
        "  '''\n",
        "  This function takes in the matrix (image to be convoluted), kernel_size (integer value | note: only accepts square matrices), kernels (the kernels to be used), and the input_dim (int)\n",
        "\n",
        "  returns: a matrix for each kernel with dimensionality (input_dim - kernel_size) ** 2 -> dimensionality: (# kernels, (input_dim - kernel_size) ** 2)\n",
        "  '''\n",
        "  returnMatrices = []\n",
        "\n",
        "  for kernel in range(len(kernels)):\n",
        "    returnMatrices.append(convolutionHelper(matrix, kernel_size, kernels[kernel], input_dim))\n",
        "  return returnMatrices"
      ],
      "metadata": {
        "id": "d3YruHt9P-Dh"
      },
      "execution_count": 1,
      "outputs": []
    },
    {
      "cell_type": "code",
      "source": [
        "def getMaxValue(subMatrix, dim):\n",
        "  '''\n",
        "  getMaxValue takes in a submatrix with dimensionality of dim\n",
        "\n",
        "  returns: the maximum value within the sub matrix\n",
        "  '''\n",
        "  maxValue = 0\n",
        "  for col in range(0, dim):\n",
        "    for row in range(0, dim):\n",
        "      maxValue = max(maxValue, subMatrix[col, row])\n",
        "  return maxValue\n",
        "\n",
        "def MaxPool2D(matrix, pooling_size, input_dim, stride):\n",
        "  '''\n",
        "  MaxPool2D takes in the matrix to be pooled, the size of the pooling range, the size of the matrix to be pooled, and stride\n",
        "\n",
        "  returns: a maxpooled matrix with dimensionality ((input_dim - pooling_size) / stride) + 1\n",
        "  '''\n",
        "  returnMatrix = []\n",
        "  for col in range(0, input_dim - (pooling_size // 2) + 1, stride):\n",
        "    for row in range(0, input_dim - (pooling_size // 2) + 1, stride):\n",
        "      subMatrix = matrix[col: col + (pooling_size // 2) + 1, row: row + (pooling_size // 2) + 1]\n",
        "      returnMatrix.append(getMaxValue(subMatrix, pooling_size))\n",
        "  returnMatrix = listReshape(returnMatrix, ((input_dim - pooling_size) // 2) + 1)\n",
        "  return returnMatrix"
      ],
      "metadata": {
        "id": "UUM7kdA6joTz"
      },
      "execution_count": 2,
      "outputs": []
    },
    {
      "cell_type": "code",
      "source": [
        "# Setting up our model\n",
        "class CNN():\n",
        "  def __init__(self, convolutionKernels, kernelSize, poolingSize, stride):\n",
        "    self.ConvKernels = convolutionKernels\n",
        "    self.KernelDim = kernelSize\n",
        "    self.poolDim = poolingSize\n",
        "    self.poolStide = stride\n",
        "    self.modelLayers = []\n",
        "\n",
        "  def addLayer(self, layerType, input_dim):\n",
        "    self.modelLayers.append((layerType, input_dim))\n",
        "\n",
        "  def forward(self, inputData):\n",
        "    x = inputData\n",
        "    for i in range(len(self.modelLayers)):\n",
        "      if self.modelLayers[i][0] == \"Convolution\":\n",
        "        x = Convolution2D(x[j] for j in range(len(x)))\n",
        "      x = self.modelLayers[i](x)\n",
        "1\n",
        "kernels = [\n",
        "    # Left vertical edge detection\n",
        "    [[-1, 0, 1],\n",
        "     [-1, 0, 1],\n",
        "     [-1, 0, 1]],\n",
        "    # Right vertical edge detection\n",
        "    [[1, 0, -1],\n",
        "     [1, 0, -1],\n",
        "     [1, 0, -1]],\n",
        "    # Top horizontal edge detection\n",
        "    [[1, 1, 1],\n",
        "     [0, 0, 0],\n",
        "     [-1, -1, -1]],\n",
        "    # Bottom horizontal edge detection\n",
        "    [[-1, -1, -1],\n",
        "     [0, 0, 0],\n",
        "     [1, 1, 1]],\n",
        "    # Embossing kernel\n",
        "    [[-2, -1, 0],\n",
        "     [-1, 1, 1],\n",
        "     [0, 1, 2]]\n",
        "]"
      ],
      "metadata": {
        "id": "7DfYnUQFu_s2"
      },
      "execution_count": 4,
      "outputs": []
    },
    {
      "cell_type": "code",
      "source": [
        "model = CNN(kernels, 3, 2, 2)\n",
        "model.addLayer(\"Convolution\", 8)\n",
        "model.addLayer(\"Pooling\", 6)\n",
        "model.addLayer(\"Convolution\", 3)\n",
        "# Brain Hurt, how to put into a class"
      ],
      "metadata": {
        "id": "YkxjLjKx5Lps"
      },
      "execution_count": 5,
      "outputs": []
    }
  ]
}