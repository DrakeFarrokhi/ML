{
  "nbformat": 4,
  "nbformat_minor": 0,
  "metadata": {
    "colab": {
      "provenance": []
    },
    "kernelspec": {
      "name": "python3",
      "display_name": "Python 3"
    },
    "language_info": {
      "name": "python"
    }
  },
  "cells": [
    {
      "cell_type": "code",
      "execution_count": null,
      "metadata": {
        "id": "8vmNfQzlMr5I"
      },
      "outputs": [],
      "source": [
        "from matplotlib import pyplot as plt\n",
        "from pandas import DataFrame\n",
        "import numpy as np\n",
        "import pandas as pd\n",
        "import sklearn\n",
        "from sklearn.model_selection import train_test_split\n",
        "from sklearn.linear_model import LogisticRegression\n",
        "from sklearn.metrics import confusion_matrix, precision_score, recall_score, f1_score, roc_curve, auc, log_loss\n",
        "from sklearn.datasets import make_blobs"
      ]
    },
    {
      "cell_type": "code",
      "source": [
        "# Mounting my drive so we can access the datasets - Dataset can be found at https://archive.ics.uci.edu/dataset/244/fertility\n",
        "from google.colab import drive\n",
        "drive.mount(\"/content/drive\")"
      ],
      "metadata": {
        "colab": {
          "base_uri": "https://localhost:8080/"
        },
        "id": "4lDfKpNK0e6_",
        "outputId": "31d6a7df-0939-484b-d62e-f3204970db50"
      },
      "execution_count": null,
      "outputs": [
        {
          "output_type": "stream",
          "name": "stdout",
          "text": [
            "Drive already mounted at /content/drive; to attempt to forcibly remount, call drive.mount(\"/content/drive\", force_remount=True).\n"
          ]
        }
      ]
    },
    {
      "cell_type": "code",
      "source": [
        "# Importing the dataset\n",
        "dataset_path = \"/content/drive/My Drive/Datasets/fertility/fertility_Diagnosis.txt\"\n",
        "with open(dataset_path, 'r') as file:\n",
        "  data = file.read()\n",
        "\n",
        "# We need to format the data in such a way that we can interact with it considering that it's a text file right now\n",
        "data = data.split(\"\\n\") # splitting the data into a list on newlines\n",
        "data.pop() # getting rid of the final entry because data is not on the last line but there is a new line char at the end\n",
        "\n",
        "# Now we have a list with 100 entries and we want to split this into a nested list such that every row is a data point and the final column is the diagnosis\n",
        "temp = []\n",
        "for entry in data:\n",
        "  temp.append(list(entry.split(',')))\n",
        "data = temp\n",
        "print(data)\n",
        "# we now have the data formatted in a such a way we can interact with it, lets turn it into a pandas dataframe for ease of access"
      ],
      "metadata": {
        "colab": {
          "base_uri": "https://localhost:8080/"
        },
        "id": "EHaNbAeX3H29",
        "outputId": "e4208698-7170-4bd2-c149-73ff8201ff9a"
      },
      "execution_count": null,
      "outputs": [
        {
          "output_type": "stream",
          "name": "stdout",
          "text": [
            "[['-0.33', '0.69', '0', '1', '1', '0', '0.8', '0', '0.88', 'N'], ['-0.33', '0.94', '1', '0', '1', '0', '0.8', '1', '0.31', 'O'], ['-0.33', '0.5', '1', '0', '0', '0', '1', '-1', '0.5', 'N'], ['-0.33', '0.75', '0', '1', '1', '0', '1', '-1', '0.38', 'N'], ['-0.33', '0.67', '1', '1', '0', '0', '0.8', '-1', '0.5', 'O'], ['-0.33', '0.67', '1', '0', '1', '0', '0.8', '0', '0.5', 'N'], ['-0.33', '0.67', '0', '0', '0', '-1', '0.8', '-1', '0.44', 'N'], ['-0.33', '1', '1', '1', '1', '0', '0.6', '-1', '0.38', 'N'], ['1', '0.64', '0', '0', '1', '0', '0.8', '-1', '0.25', 'N'], ['1', '0.61', '1', '0', '0', '0', '1', '-1', '0.25', 'N'], ['1', '0.67', '1', '1', '0', '-1', '0.8', '0', '0.31', 'N'], ['1', '0.78', '1', '1', '1', '0', '0.6', '0', '0.13', 'N'], ['1', '0.75', '1', '1', '1', '0', '0.8', '1', '0.25', 'N'], ['1', '0.81', '1', '0', '0', '0', '1', '-1', '0.38', 'N'], ['1', '0.94', '1', '1', '1', '0', '0.2', '-1', '0.25', 'N'], ['1', '0.81', '1', '1', '0', '0', '1', '1', '0.5', 'N'], ['1', '0.64', '1', '0', '1', '0', '1', '-1', '0.38', 'N'], ['1', '0.69', '1', '0', '1', '0', '0.8', '-1', '0.25', 'O'], ['1', '0.75', '1', '1', '1', '0', '1', '1', '0.25', 'N'], ['1', '0.67', '1', '0', '0', '0', '0.8', '1', '0.38', 'O'], ['1', '0.67', '0', '0', '1', '0', '0.8', '-1', '0.25', 'N'], ['1', '0.75', '1', '0', '0', '0', '0.6', '0', '0.25', 'N'], ['1', '0.67', '1', '1', '0', '0', '0.8', '-1', '0.25', 'N'], ['1', '0.69', '1', '0', '1', '-1', '1', '-1', '0.44', 'O'], ['1', '0.56', '1', '0', '1', '0', '1', '-1', '0.63', 'N'], ['1', '0.67', '1', '0', '0', '0', '1', '-1', '0.25', 'N'], ['1', '0.67', '1', '0', '1', '0', '0.6', '-1', '0.38', 'O'], ['1', '0.78', '1', '1', '0', '1', '0.6', '-1', '0.38', 'O'], ['1', '0.58', '0', '0', '1', '0', '1', '-1', '0.19', 'N'], ['1', '0.67', '0', '0', '1', '0', '0.6', '0', '0.5', 'O'], ['1', '0.61', '1', '0', '1', '0', '1', '-1', '0.63', 'N'], ['1', '0.56', '1', '0', '0', '0', '1', '-1', '0.44', 'N'], ['1', '0.64', '0', '0', '0', '0', '1', '-1', '0.63', 'N'], ['1', '0.58', '1', '1', '1', '0', '0.8', '0', '0.44', 'N'], ['1', '0.56', '1', '1', '1', '0', '1', '-1', '0.63', 'N'], ['-1', '0.78', '1', '1', '0', '1', '0.6', '-1', '0.38', 'N'], ['-1', '0.78', '1', '0', '1', '0', '1', '-1', '0.25', 'N'], ['-1', '0.56', '1', '0', '1', '0', '1', '-1', '0.63', 'N'], ['-1', '0.67', '0', '0', '1', '0', '0.6', '0', '0.5', 'O'], ['-1', '0.69', '1', '0', '0', '0', '1', '-1', '0.31', 'N'], ['-1', '0.53', '1', '1', '1', '0', '0.8', '1', '0.5', 'N'], ['-1', '0.56', '1', '1', '0', '0', '0.8', '1', '0.5', 'N'], ['-1', '0.58', '1', '0', '1', '-1', '0.8', '1', '0.5', 'N'], ['-1', '0.56', '1', '0', '0', '0', '1', '-1', '0.44', 'N'], ['-1', '0.53', '1', '1', '0', '1', '1', '0', '0.31', 'N'], ['-1', '0.53', '1', '0', '0', '1', '1', '0', '0.44', 'N'], ['-0.33', '0.56', '1', '0', '0', '0', '1', '-1', '0.63', 'N'], ['-0.33', '0.72', '1', '1', '0', '0', '0.6', '1', '0.19', 'N'], ['-0.33', '0.64', '1', '1', '1', '0', '0.8', '-1', '0.31', 'N'], ['-0.33', '0.75', '1', '1', '1', '0', '0.6', '-1', '0.19', 'N'], ['-0.33', '0.67', '1', '0', '1', '0', '0.8', '-1', '0.19', 'N'], ['-0.33', '0.53', '1', '1', '0', '1', '1', '-1', '0.75', 'N'], ['-0.33', '0.53', '1', '1', '0', '0', '0.8', '0', '0.5', 'N'], ['-0.33', '0.58', '1', '1', '1', '-1', '0.8', '0', '0.19', 'N'], ['-0.33', '0.61', '1', '0', '1', '0', '1', '-1', '0.63', 'N'], ['-0.33', '0.58', '1', '0', '1', '0', '0.8', '1', '0.19', 'N'], ['-0.33', '0.53', '1', '1', '0', '0', '0.8', '0', '0.75', 'N'], ['-0.33', '0.69', '1', '1', '1', '-1', '1', '-1', '0.75', 'N'], ['-0.33', '0.56', '1', '1', '0', '0', '0.4', '1', '0.63', 'N'], ['1', '0.58', '0', '0', '0', '1', '0.8', '1', '0.44', 'N'], ['1', '0.56', '0', '0', '0', '1', '0.8', '0', '1', 'N'], ['-1', '0.64', '1', '0', '0', '1', '1', '1', '0.25', 'N'], ['-1', '0.61', '1', '1', '1', '0', '0.6', '-1', '0.38', 'N'], ['-1', '0.56', '1', '0', '0', '1', '1', '-1', '0.5', 'N'], ['-1', '0.53', '1', '0', '0', '1', '0.8', '-1', '0.31', 'N'], ['-0.33', '0.56', '0', '0', '1', '0', '1', '-1', '0.56', 'N'], ['-0.33', '0.5', '1', '1', '0', '-1', '0.8', '0', '0.88', 'N'], ['-0.33', '0.5', '1', '0', '0', '1', '1', '-1', '0.47', 'N'], ['-0.33', '0.5', '1', '0', '0', '1', '0.8', '0', '0.31', 'N'], ['-0.33', '0.5', '1', '0', '1', '-1', '0.8', '-1', '0.5', 'N'], ['-0.33', '0.5', '1', '1', '0', '-1', '0.8', '0', '0.88', 'O'], ['0.33', '0.69', '1', '0', '0', '1', '1', '-1', '0.31', 'N'], ['1', '0.56', '1', '0', '0', '1', '0.6', '0', '0.5', 'N'], ['-1', '0.5', '1', '0', '0', '1', '0.8', '-1', '0.44', 'N'], ['-1', '0.53', '1', '0', '0', '1', '0.8', '-1', '0.63', 'N'], ['-1', '0.78', '1', '0', '1', '1', '1', '1', '0.25', 'N'], ['-1', '0.75', '1', '0', '1', '1', '0.6', '0', '0.56', 'N'], ['-1', '0.72', '1', '1', '1', '1', '0.8', '-1', '0.19', 'N'], ['-1', '0.53', '1', '1', '0', '1', '0.8', '-1', '0.38', 'N'], ['-1', '1', '1', '0', '1', '1', '0.6', '0', '0.25', 'N'], ['-0.33', '0.92', '1', '1', '0', '1', '1', '-1', '0.63', 'N'], ['-1', '0.81', '1', '1', '1', '1', '0.8', '0', '0.19', 'N'], ['-0.33', '0.92', '1', '0', '0', '1', '0.6', '-1', '0.19', 'N'], ['-0.33', '0.86', '1', '1', '1', '1', '1', '-1', '0.25', 'N'], ['-0.33', '0.78', '1', '0', '0', '1', '1', '1', '0.06', 'O'], ['-0.33', '0.89', '1', '1', '0', '0', '0.6', '1', '0.31', 'N'], ['-0.33', '0.75', '1', '1', '1', '0', '0.6', '1', '0.25', 'N'], ['-0.33', '0.75', '1', '1', '1', '1', '0.8', '1', '0.25', 'N'], ['-0.33', '0.83', '1', '1', '1', '0', '1', '-1', '0.31', 'N'], ['-0.33', '0.81', '1', '1', '1', '0', '1', '1', '0.38', 'N'], ['-0.33', '0.81', '1', '1', '1', '1', '0.8', '-1', '0.38', 'N'], ['0.33', '0.78', '1', '0', '0', '0', '1', '1', '0.06', 'N'], ['0.33', '0.75', '1', '1', '0', '0', '0.8', '-1', '0.38', 'N'], ['0.33', '0.75', '1', '0', '1', '0', '0.8', '-1', '0.44', 'O'], ['1', '0.58', '1', '0', '0', '0', '0.6', '1', '0.5', 'N'], ['-1', '0.67', '1', '0', '0', '0', '1', '-1', '0.5', 'N'], ['-1', '0.61', '1', '0', '0', '0', '0.8', '0', '0.5', 'N'], ['-1', '0.67', '1', '1', '1', '0', '1', '-1', '0.31', 'N'], ['-1', '0.64', '1', '0', '1', '0', '1', '0', '0.19', 'N'], ['-1', '0.69', '0', '1', '1', '0', '0.6', '-1', '0.19', 'N']]\n"
          ]
        }
      ]
    },
    {
      "cell_type": "code",
      "source": [
        "dataDF = DataFrame(data)\n",
        "# Lets add the titles of the columns into our DF so that we can see more easily what's going on\n",
        "dataDF.columns = [\"Season\", \"Age\", \"Child Diaseases\", \"Accident\", \"Surgical Intervention\", \"High Fevers\", \"Alcohol\", \"Smoking\", \"Hours Sitting\", \"Diagnosis\"]\n",
        "print(dataDF)"
      ],
      "metadata": {
        "colab": {
          "base_uri": "https://localhost:8080/"
        },
        "id": "irzNLJ8h5GAK",
        "outputId": "96afe869-9ce8-4997-cdec-68635bcbee22"
      },
      "execution_count": null,
      "outputs": [
        {
          "output_type": "stream",
          "name": "stdout",
          "text": [
            "   Season   Age Child Diaseases Accident Surgical Intervention High Fevers  \\\n",
            "0   -0.33  0.69               0        1                     1           0   \n",
            "1   -0.33  0.94               1        0                     1           0   \n",
            "2   -0.33   0.5               1        0                     0           0   \n",
            "3   -0.33  0.75               0        1                     1           0   \n",
            "4   -0.33  0.67               1        1                     0           0   \n",
            "..    ...   ...             ...      ...                   ...         ...   \n",
            "95     -1  0.67               1        0                     0           0   \n",
            "96     -1  0.61               1        0                     0           0   \n",
            "97     -1  0.67               1        1                     1           0   \n",
            "98     -1  0.64               1        0                     1           0   \n",
            "99     -1  0.69               0        1                     1           0   \n",
            "\n",
            "   Alcohol Smoking Hours Sitting Diagnosis  \n",
            "0      0.8       0          0.88         N  \n",
            "1      0.8       1          0.31         O  \n",
            "2        1      -1           0.5         N  \n",
            "3        1      -1          0.38         N  \n",
            "4      0.8      -1           0.5         O  \n",
            "..     ...     ...           ...       ...  \n",
            "95       1      -1           0.5         N  \n",
            "96     0.8       0           0.5         N  \n",
            "97       1      -1          0.31         N  \n",
            "98       1       0          0.19         N  \n",
            "99     0.6      -1          0.19         N  \n",
            "\n",
            "[100 rows x 10 columns]\n"
          ]
        }
      ]
    },
    {
      "cell_type": "code",
      "source": [
        "# Let's now split our dataset into the feature vectors and the y vector\n",
        "X = dataDF.iloc[:, :-1].values  # Features\n",
        "# Converting the X values to floats\n",
        "X = np.array(X, dtype=np.float32)\n",
        "Y = dataDF.iloc[:, -1].values   # Target variable\n",
        "\n",
        "# Now we need to change our Y vector into something actually usable rather than string values so lets change them to np.float32 values with 0.0 -> N and 1.0 -> O\n",
        "Y = np.array([0 if value == \"N\" else 1 for value in Y], dtype=np.float32) # N -> normal fertility, O -> altered\n",
        "\n",
        "# and prepare our weights\n",
        "w = np.array([1.0 for i in range(10)]) # 9 feature vectors + 1 bias term\n",
        "print(w)"
      ],
      "metadata": {
        "colab": {
          "base_uri": "https://localhost:8080/"
        },
        "id": "455V6HgO6NTb",
        "outputId": "2c360bc0-e1e9-447d-c606-f19c860cf0df"
      },
      "execution_count": null,
      "outputs": [
        {
          "output_type": "stream",
          "name": "stdout",
          "text": [
            "[1. 1. 1. 1. 1. 1. 1. 1. 1. 1.]\n"
          ]
        }
      ]
    },
    {
      "cell_type": "code",
      "source": [
        "# Now that we have everything prepared in terms of data preprocessing; we need to adjust the grad, hw, cost, and descent functions to allow for a 1x10 vectors\n",
        "# These are the same functions that David provided however we have adapated them to work with abitrary sized vectors!\n",
        "def sigmoid(x):\n",
        "  return 1 / (1 + np.exp(-x))\n",
        "\n",
        "def hw(w, X):\n",
        "  z = np.dot(X, w[:-1]) + w[-1]\n",
        "  return sigmoid(z)\n",
        "\n",
        "def cost(w, X, Y):\n",
        "  y_pred = hw(w, X)\n",
        "  return -1 * np.sum(Y*np.log(y_pred) + (1 - Y) * np.log(1 - y_pred))\n",
        "\n",
        "def grad(w, X, Y):\n",
        "  y_pred = hw(w, X)\n",
        "  g = np.zeros_like(w)\n",
        "  g[:-1] = -np.dot(X.T, (Y * 1 - y_pred) - (1-Y)*y_pred)\n",
        "  g[-1] = -np.sum(Y*(1-y_pred) - (1-Y)*y_pred)\n",
        "  return g\n",
        "\n",
        "def descent(w_new, w_prev, lr, X, Y, epochs):\n",
        "  j = 0\n",
        "  while True:\n",
        "    w_prev = w_new\n",
        "    w_new -= lr * grad(w_prev, X, Y)\n",
        "    print(\"Cost(new): \", cost(w_new, X, Y))\n",
        "    if j > epochs:\n",
        "      return w_new\n",
        "    j += 1"
      ],
      "metadata": {
        "id": "L4fsReslA-hO"
      },
      "execution_count": null,
      "outputs": []
    },
    {
      "cell_type": "code",
      "source": [
        "# Converting X into a numpy array prior to training\n",
        "X = np.array(X, dtype=np.float32)\n",
        "\n",
        "# Let's do our train/test split so that we train and test our model\n",
        "X_train, X_test, Y_train, Y_test = train_test_split(X, Y, test_size=0.2, random_state=42)\n",
        "\n",
        "# Training - Don't need to normalize the values of our features vectors as they are already \"prenormalized\" into the range [0, 1] for most and [-1, 1] for season, high fevers, smoking:\n",
        "w = descent(w, w, 0.0099, X_train, Y_train, 100)\n",
        "print(w)"
      ],
      "metadata": {
        "colab": {
          "base_uri": "https://localhost:8080/"
        },
        "id": "F8pUiE__J36e",
        "outputId": "87e9f759-11ab-463b-9ebd-d52d0cdf753a"
      },
      "execution_count": null,
      "outputs": [
        {
          "output_type": "stream",
          "name": "stdout",
          "text": [
            "Cost(new):  26.021844486366625\n",
            "Cost(new):  26.02292615647822\n",
            "Cost(new):  26.024201232567783\n",
            "Cost(new):  26.02566675169733\n",
            "Cost(new):  26.027319834517172\n",
            "Cost(new):  26.029157682112267\n",
            "Cost(new):  26.03117757298738\n",
            "Cost(new):  26.03337686018387\n",
            "Cost(new):  26.035752968521166\n",
            "Cost(new):  26.038303391956816\n",
            "Cost(new):  26.041025691059033\n",
            "Cost(new):  26.043917490586306\n",
            "Cost(new):  26.04697647716873\n",
            "Cost(new):  26.050200397086336\n",
            "Cost(new):  26.053587054139616\n",
            "Cost(new):  26.057134307608052\n",
            "Cost(new):  26.060840070292503\n",
            "Cost(new):  26.064702306637514\n",
            "Cost(new):  26.06871903093002\n",
            "Cost(new):  26.072888305570856\n",
            "Cost(new):  26.07720823941588\n",
            "Cost(new):  26.08167698618356\n",
            "Cost(new):  26.08629274292607\n",
            "Cost(new):  26.09105374856121\n",
            "Cost(new):  26.09595828246227\n",
            "Cost(new):  26.101004663103552\n",
            "Cost(new):  26.106191246758964\n",
            "Cost(new):  26.111516426251555\n",
            "Cost(new):  26.116978629751667\n",
            "Cost(new):  26.122576319621757\n",
            "Cost(new):  26.128307991305807\n",
            "Cost(new):  26.134172172261525\n",
            "Cost(new):  26.140167420933505\n",
            "Cost(new):  26.146292325765636\n",
            "Cost(new):  26.152545504251073\n",
            "Cost(new):  26.15892560201832\n",
            "Cost(new):  26.16543129195187\n",
            "Cost(new):  26.17206127334587\n",
            "Cost(new):  26.178814271089724\n",
            "Cost(new):  26.185689034884014\n",
            "Cost(new):  26.192684338485737\n",
            "Cost(new):  26.19979897898152\n",
            "Cost(new):  26.20703177608777\n",
            "Cost(new):  26.2143815714766\n",
            "Cost(new):  26.221847228126514\n",
            "Cost(new):  26.22942762969692\n",
            "Cost(new):  26.23712167992533\n",
            "Cost(new):  26.24492830204661\n",
            "Cost(new):  26.252846438233114\n",
            "Cost(new):  26.26087504905511\n",
            "Cost(new):  26.2690131129605\n",
            "Cost(new):  26.277259625773212\n",
            "Cost(new):  26.28561360020945\n",
            "Cost(new):  26.29407406541111\n",
            "Cost(new):  26.302640066495677\n",
            "Cost(new):  26.31131066412202\n",
            "Cost(new):  26.320084934071346\n",
            "Cost(new):  26.32896196684284\n",
            "Cost(new):  26.33794086726332\n",
            "Cost(new):  26.34702075411045\n",
            "Cost(new):  26.356200759748905\n",
            "Cost(new):  26.365480029779036\n",
            "Cost(new):  26.374857722697552\n",
            "Cost(new):  26.384333009569723\n",
            "Cost(new):  26.393905073712677\n",
            "Cost(new):  26.403573110389416\n",
            "Cost(new):  26.41333632651304\n",
            "Cost(new):  26.42319394036085\n",
            "Cost(new):  26.433145181298023\n",
            "Cost(new):  26.44318928951031\n",
            "Cost(new):  26.45332551574561\n",
            "Cost(new):  26.463553121064006\n",
            "Cost(new):  26.473871376595866\n",
            "Cost(new):  26.484279563307865\n",
            "Cost(new):  26.49477697177649\n",
            "Cost(new):  26.505362901968873\n",
            "Cost(new):  26.516036663030526\n",
            "Cost(new):  26.52679757307991\n",
            "Cost(new):  26.537644959009388\n",
            "Cost(new):  26.548578156292464\n",
            "Cost(new):  26.55959650879709\n",
            "Cost(new):  26.57069936860468\n",
            "Cost(new):  26.581886095834726\n",
            "Cost(new):  26.593156058474843\n",
            "Cost(new):  26.604508632215946\n",
            "Cost(new):  26.61594320029242\n",
            "Cost(new):  26.627459153327134\n",
            "Cost(new):  26.6390558891811\n",
            "Cost(new):  26.650732812807554\n",
            "Cost(new):  26.662489336110426\n",
            "Cost(new):  26.674324877806875\n",
            "Cost(new):  26.68623886329398\n",
            "Cost(new):  26.69823072451912\n",
            "Cost(new):  26.710299899854256\n",
            "Cost(new):  26.722445833973723\n",
            "Cost(new):  26.7346679777355\n",
            "Cost(new):  26.746965788065882\n",
            "Cost(new):  26.759338727847357\n",
            "Cost(new):  26.7717862658096\n",
            "Cost(new):  26.784307876423547\n",
            "Cost(new):  26.796903039798295\n",
            "Cost(new):  26.80957124158089\n",
            "[ 0.49563    -2.5227025  -1.01035554 -2.23666137  0.2801402  -0.55761014\n",
            " -5.04256641  0.44045745 -2.28864421  5.43221814]\n"
          ]
        }
      ]
    },
    {
      "cell_type": "markdown",
      "source": [
        "Based on our results, our cost function got minimized to about 26 (still need to check if this underfitting/overfitting) however we get a general weight vector of approximately [0.618 -> season | season doesn't play a large role in fertility, -1.537 -> age | i.e. negative trend as you get older, -0.972 -> child diseases | if you're having defective children your fertility is likely messed up, -1.551 -> accident | reproductive organ damage has high negative impact on fertility, 0.397 -> surgical intervention | seems to have a negative impact on fertility, -0.475 -> high fevers | negative general heatlh -> negative fertility health, -3.098 -> alcohol | alcohol usage decreases fertility drastically, 0.504 -> smoking | not a major factor in determing fertility here, -1.226 -> hrs sitting | if you're sitting a lot on your reproductive organs untop of the simple pressure added, they heat up and this is known to decrease fertility, 2.664 -> bias for \"other factors\"]"
      ],
      "metadata": {
        "id": "OyTTFITcfLU6"
      }
    },
    {
      "cell_type": "code",
      "source": [
        "# Let's now evaluate our model so that we can compare the results against another logistic regression model\n",
        "def test(X, Y, w):\n",
        "  hits = 0\n",
        "  for i in range(X.shape[0]):\n",
        "    pred = np.dot(X[i], w[:-1]) + w[-1]\n",
        "    if pred <= 0 and Y[i] == 0:\n",
        "      hits += 1\n",
        "    elif pred > 0 and Y[i] == 1:\n",
        "      hits += 1\n",
        "  return hits/Y.shape[0] * 100\n",
        "\n",
        "print(test(X_test, Y_test, w))"
      ],
      "metadata": {
        "colab": {
          "base_uri": "https://localhost:8080/"
        },
        "id": "Idej5jEpFgXr",
        "outputId": "501a589a-3501-4e47-b008-59b15705e341"
      },
      "execution_count": null,
      "outputs": [
        {
          "output_type": "stream",
          "name": "stdout",
          "text": [
            "90.0\n"
          ]
        }
      ]
    },
    {
      "cell_type": "markdown",
      "source": [
        "Let's now compare our results against sci-kit learn logistic regression to see if our results are logical and on point!"
      ],
      "metadata": {
        "id": "M0jFK-qbqrES"
      }
    },
    {
      "cell_type": "code",
      "source": [
        "LRModel = LogisticRegression(fit_intercept=True) # Adding a bias term so that the results are more comprable to our earlier model since we used a bias term\n",
        "# Let's now split our X and Y into train and test splits so we can validate the results through scikit learn logistic regression but then compare the weights\n",
        "# to the weights we achieved to validate our model\n",
        "\n",
        "LRModel.fit(X_train, Y_train)\n",
        "predictions = LRModel.predict(X_test)\n",
        "accuracy = LRModel.score(X_test, Y_test)\n",
        "print(\"Predictions: \", predictions)\n",
        "print(\"Accuracy: \", accuracy)"
      ],
      "metadata": {
        "colab": {
          "base_uri": "https://localhost:8080/"
        },
        "id": "39R12PFxqxk3",
        "outputId": "c4dc2e11-8dd4-438f-9157-569e360557fe"
      },
      "execution_count": null,
      "outputs": [
        {
          "output_type": "stream",
          "name": "stdout",
          "text": [
            "Predictions:  ['N' 'N' 'N' 'N' 'N' 'N' 'N' 'N' 'N' 'N' 'N' 'N' 'N' 'N' 'N' 'N' 'N' 'N'\n",
            " 'N' 'N']\n",
            "Accuracy:  0.9\n"
          ]
        }
      ]
    },
    {
      "cell_type": "markdown",
      "source": [
        "90% accuracy on a small dataset (n=100) seems fairly reasonable, now let's take a look at the weights of the model and compare them to our earlier results"
      ],
      "metadata": {
        "id": "dJB275QctmWx"
      }
    },
    {
      "cell_type": "code",
      "source": [
        "# Looking at the weights of the model\n",
        "LRModelWeights = LRModel.coef_\n",
        "print(\"Weights shape: \", LRModelWeights.shape)\n",
        "print(\"Weights: \", LRModelWeights)"
      ],
      "metadata": {
        "colab": {
          "base_uri": "https://localhost:8080/"
        },
        "id": "cxu7bTqets0E",
        "outputId": "6e1c3701-14e4-4b06-dfba-57a5f4457c2b"
      },
      "execution_count": null,
      "outputs": [
        {
          "output_type": "stream",
          "name": "stdout",
          "text": [
            "Weights shape:  (1, 9)\n",
            "Weights:  [[ 0.87196644  0.50640633  0.12667004 -0.98353417  0.7944421  -0.05648944\n",
            "  -0.45796205  0.39349152 -0.13872843]]\n"
          ]
        }
      ]
    },
    {
      "cell_type": "markdown",
      "source": [
        "LRModel Weights: [0.87196644, 0.50640633, 0.12667004, -0.98353417, 0.7944421, -0.05648944, -0.45796205, 0.39349152, -0.13872843]\n",
        "\n",
        "Our Model: [0.61833329, -1.53673251, -0.97205016, -1.55106849, 0.39668052, -0.47507608, -3.09768701, 0.50359419, -1.25550857, 2.66415692]\n",
        "\n",
        "Both models were able to achieve a 90% accuracy on the testing data (they both had the same testing and training data as we used the same testing and training data) so as of now, it seems both models have reached a local optimum (because they have different weights and biases yet achieve the same accuracy) so we should look at other metrics such as the confusion matrices, precision, recall, F1 score, ROC, AUC, and log loss to be able to draw out other potential differences between the models."
      ],
      "metadata": {
        "id": "Bn_ONi8Xt_vZ"
      }
    },
    {
      "cell_type": "code",
      "source": [
        "# Let's begin by grabbing these metrics from the scikit learn model and then we can implement our own functions for analysis for our LR model and compare\n",
        "Y_proba = LRModel.predict_proba(X_test)[:, 1]\n",
        "print(\"Confusion Matrix:\\n\", confusion_matrix(Y_test, predictions))\n",
        "print(\"Precision: \", precision_score(Y_test, predictions, pos_label=\"N\"))\n",
        "print(\"Recall: \", recall_score(Y_test, predictions, pos_label=\"N\"))\n",
        "print(\"F1 Score: \", f1_score(Y_test, predictions, pos_label=\"N\"))\n",
        "print(\"Log Loss: \", log_loss(Y_test, Y_proba))\n",
        "fpr, tpr, thresholds = roc_curve(Y_test, Y_proba, pos_label=\"N\")\n",
        "roc_auc = auc(fpr, tpr)\n",
        "\n",
        "# Let's now plot the AUC/ROC curve\n",
        "plt.figure()\n",
        "plt.plot(fpr, tpr, color=\"darkorange\", lw=2, label='ROC curve (area = %0.2f)' % roc_auc)\n",
        "plt.plot([0, 1], [0, 1], color='navy', lw=2, linestyle='--')\n",
        "plt.xlim([0.0, 1.0])\n",
        "plt.ylim([0.0, 1.05])\n",
        "plt.xlabel('False Positive Rate')\n",
        "plt.ylabel('True Positive Rate')\n",
        "plt.title('Receiver Operating Characteristic')\n",
        "plt.legend(loc=\"lower right\")\n",
        "plt.show()"
      ],
      "metadata": {
        "colab": {
          "base_uri": "https://localhost:8080/",
          "height": 593
        },
        "id": "CqDFekVw1-K8",
        "outputId": "b3c99105-2d58-4c2a-a91c-add2ada23ee3"
      },
      "execution_count": null,
      "outputs": [
        {
          "output_type": "stream",
          "name": "stdout",
          "text": [
            "Confusion Matrix:\n",
            " [[18  0]\n",
            " [ 2  0]]\n",
            "Precision:  0.9\n",
            "Recall:  1.0\n",
            "F1 Score:  0.9473684210526316\n",
            "Log Loss:  0.46504817690473904\n"
          ]
        },
        {
          "output_type": "display_data",
          "data": {
            "text/plain": [
              "<Figure size 640x480 with 1 Axes>"
            ],
            "image/png": "[encoded data removed]"
          },
          "metadata": {}
        }
      ]
    },
    {
      "cell_type": "code",
      "source": [
        "# Now we need to implement these functions for our model so that we can compare them against the results of the SKlearn model\n",
        "def preds(X, Y, w):\n",
        "  hits = []\n",
        "  for i in range(X.shape[0]):\n",
        "    pred = np.dot(X[i], w[:-1]) + w[-1]\n",
        "    if pred <= 0 and Y[i] == 0:\n",
        "      hits.append(\"O\")\n",
        "    elif pred > 0 and Y[i] == 1:\n",
        "      hits.append(\"O\")\n",
        "    else:\n",
        "      hits.append(\"N\")\n",
        "  return hits\n",
        "\n",
        "def confusionMatrix(Y_true, Y_pred):\n",
        "  classes = sorted(set(Y_true))\n",
        "  n_classes = len(classes)\n",
        "  confusionMatrix = [[0] * n_classes for _ in range(n_classes)]\n",
        "\n",
        "  for true, pred in zip(Y_true, Y_pred):\n",
        "    true_ind = classes.index(true)\n",
        "    pred_ind = classes.index(pred)\n",
        "    confusionMatrix[true_ind][pred_ind] += 1\n",
        "  for row in confusionMatrix:\n",
        "    print(row)\n",
        "\n",
        "def precision(Y_true, Y_pred, posLabel):\n",
        "  truePositives = sum((true == posLabel) and (pred == posLabel) for true, pred in zip(Y_true, Y_pred))\n",
        "  falsePositives = sum((true != posLabel) and (pred == posLabel) for true, pred in zip(Y_true, Y_pred))\n",
        "  if truePositives + falsePositives == 0: return 0.0\n",
        "  else:\n",
        "    return truePositives / (truePositives + falsePositives)\n",
        "\n",
        "def recall(Y_true, Y_pred, posLabel):\n",
        "  true_positives = sum((true == posLabel) and (pred == posLabel) for true, pred in zip(Y_true, Y_pred))\n",
        "  false_negatives = sum((true == posLabel) and (pred != posLabel) for true, pred in zip(Y_true, Y_pred))\n",
        "\n",
        "  if true_positives + false_negatives == 0: return 0.0\n",
        "  else:\n",
        "      return true_positives / (true_positives + false_negatives)\n",
        "\n",
        "def F1Score(Y_true, Y_pred, posLabel):\n",
        "  prec = precision(Y_true, Y_pred, posLabel)\n",
        "  rec = recall(Y_true, Y_pred, posLabel)\n",
        "  if prec + rec == 0: return 0.0\n",
        "  else:\n",
        "    return (prec * rec) / (prec + rec)\n",
        "\n",
        "def logLoss(Y_true, Y_pred_prob):\n",
        "    N = len(Y_true)\n",
        "    logloss = 0.0\n",
        "    for i in range(N):\n",
        "        if Y_true[i] == 1:\n",
        "            logloss -= np.log(Y_pred_prob[i])\n",
        "        else:\n",
        "            logloss -= np.log(1 - Y_pred_prob[i])\n",
        "    return logloss / N"
      ],
      "metadata": {
        "id": "YewD-0kx4FsX"
      },
      "execution_count": null,
      "outputs": []
    },
    {
      "cell_type": "code",
      "source": [
        "# Let's now calculate our other metrics from our model and compare them to the SKLearn model\n",
        "pred = preds(X_test, Y_test, w) # calculating our prediction array for our functions\n",
        "predProb = sigmoid(np.dot(X_test, w[:-1]) + w[-1])\n",
        "confMatrix = confusionMatrix(Y_test, pred)\n",
        "print(\"Precision: \", precision(Y_test, pred, \"N\"))\n",
        "print(\"Recall: \", recall(Y_test, pred, \"N\"))\n",
        "print(\"F1Score: \", F1Score(Y_test, pred, \"N\"))\n",
        "print(\"Logloss: \", logLoss(Y_test, predProb))\n",
        "\n",
        "# Let's now make our ROC graph\n",
        "fpr, tpr, _ = roc_curve(Y_test, predProb, pos_label=\"N\")\n",
        "roc_auc = auc(fpr, tpr)\n",
        "plt.figure()\n",
        "plt.plot(fpr, tpr, color=\"darkorange\", lw=2, label=\"ROC curve (area = %0.2f)\" % roc_auc)\n",
        "plt.plot([0, 1], [0, 1], color='navy', lw=2, linestyle='--')\n",
        "plt.xlim([0.0, 1.0])\n",
        "plt.ylim([0.0, 1.05])\n",
        "plt.xlabel('False Positive Rate')\n",
        "plt.ylabel('True Positive Rate')\n",
        "plt.title('Receiver Operating Characteristic (ROC) Curve')\n",
        "plt.legend(loc=\"lower right\")\n",
        "plt.show()"
      ],
      "metadata": {
        "colab": {
          "base_uri": "https://localhost:8080/",
          "height": 576
        },
        "id": "1RLcmHox-Zfi",
        "outputId": "e927e9f6-383e-4b77-9ed4-8c43ece9836f"
      },
      "execution_count": null,
      "outputs": [
        {
          "output_type": "stream",
          "name": "stdout",
          "text": [
            "[18, 0]\n",
            "[2, 0]\n",
            "Precision:  0.9\n",
            "Recall:  1.0\n",
            "F1Score:  0.4736842105263158\n",
            "Logloss:  0.03591288391047912\n"
          ]
        },
        {
          "output_type": "display_data",
          "data": {
            "text/plain": [
              "<Figure size 640x480 with 1 Axes>"
            ],
            "image/png": "[encoded data removed]"
          },
          "metadata": {}
        }
      ]
    },
    {
      "cell_type": "markdown",
      "source": [
        "Final Analysis: Our model and the Sci-kit learn model were both able to achieve the same confusion matrix, precision, and recall however we see discrepencies between the two models in the F1 scores, log loss, and the ROC Curves. This can be enterpreted as differences in predictive power between the two models: a high F1 score, seen in the scikit learn model, is related to a good balance between precision and recall given how the F1 score is calculated. Furthemore, the log loss can be interpreted as the models ability to predict accurately on unseen data which can be seen in our handcrafted model. This could likely be explained via the underworkings of the scikit learn model and how many epochs it trains on the test data whereas with our handcrafted model we can control the epochs - in fact, when we forcefully overtrain on our model (epochs >= 200) we see a massive decrease in accuracy, precision, and therefore a sky rocket in our log loss value. So, in final, our model likely would perform well as long as we balance underfitting/overfitting however it wouldn't be unwise to say the scikit learn model is more confident as it comes from a trusted coding source rather than our hacked together monstrosity."
      ],
      "metadata": {
        "id": "PqBXY6vzscXr"
      }
    }
  ]
}